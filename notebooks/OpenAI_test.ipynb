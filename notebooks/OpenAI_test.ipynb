{
 "cells": [
  {
   "cell_type": "markdown",
   "id": "4801e75c-8188-4517-aa0f-e4c09384c483",
   "metadata": {},
   "source": [
    "### Key Imports"
   ]
  },
  {
   "cell_type": "code",
   "execution_count": 1,
   "id": "517d40a9-739d-46f1-bb14-a98ddc819b5d",
   "metadata": {},
   "outputs": [],
   "source": [
    "import os\n",
    "from dotenv import load_dotenv\n",
    "from openai import OpenAI"
   ]
  },
  {
   "cell_type": "markdown",
   "id": "db672056-5f2f-4acd-9e3c-dae06e417668",
   "metadata": {},
   "source": [
    "##### Load all variables from the .env file (environment file)"
   ]
  },
  {
   "cell_type": "code",
   "execution_count": null,
   "id": "01267286-c45b-43cd-b557-4d6a99447f65",
   "metadata": {},
   "outputs": [],
   "source": [
    "load_dotenv()\n",
    "OPENAI_KEY = os.getenv('OPENAI_API_KEY')"
   ]
  },
  {
   "cell_type": "markdown",
   "id": "e7648565-b079-48ff-96f1-041438187e3d",
   "metadata": {},
   "source": [
    "##### Set up the Open AI API connection and set the initial prompts"
   ]
  },
  {
   "cell_type": "code",
   "execution_count": null,
   "id": "c5044611-b47a-4280-be36-30bf89e50c17",
   "metadata": {},
   "outputs": [],
   "source": [
    "client = OpenAI(api_key=OPENAI_KEY)\n",
    "\n",
    "completion = client.chat.completions.create(\n",
    "  model=\"gpt-3.5-turbo\",\n",
    "  messages=[\n",
    "    {\"role\": \"system\", \"content\": \"You are a poetic assistant, skilled in explaining complex programming concepts with creative flair.\"},\n",
    "    {\"role\": \"user\", \"content\": \"Compose a poem that explains the concept of recursion in programming.\"}\n",
    "  ]\n",
    ")"
   ]
  },
  {
   "cell_type": "markdown",
   "id": "89a1e201-36b6-44d2-b090-819f187d9257",
   "metadata": {},
   "source": [
    "##### Print the response"
   ]
  },
  {
   "cell_type": "code",
   "execution_count": null,
   "id": "2c08f3f8-b804-4188-99cd-67dce92dc11c",
   "metadata": {},
   "outputs": [],
   "source": [
    "print(completion.choices[0].message)"
   ]
  }
 ],
 "metadata": {
  "kernelspec": {
   "display_name": "Python 3 (ipykernel)",
   "language": "python",
   "name": "python3"
  },
  "language_info": {
   "codemirror_mode": {
    "name": "ipython",
    "version": 3
   },
   "file_extension": ".py",
   "mimetype": "text/x-python",
   "name": "python",
   "nbconvert_exporter": "python",
   "pygments_lexer": "ipython3",
   "version": "3.12.3"
  }
 },
 "nbformat": 4,
 "nbformat_minor": 5
}
